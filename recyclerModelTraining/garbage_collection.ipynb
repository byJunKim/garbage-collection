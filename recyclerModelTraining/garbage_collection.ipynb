{
  "nbformat": 4,
  "nbformat_minor": 0,
  "metadata": {
    "kernelspec": {
      "name": "python3",
      "display_name": "Python 3"
    },
    "language_info": {
      "codemirror_mode": {
        "name": "ipython",
        "version": 3
      },
      "file_extension": ".py",
      "mimetype": "text/x-python",
      "name": "python",
      "nbconvert_exporter": "python",
      "pygments_lexer": "ipython3",
      "version": "3.7.4"
    },
    "colab": {
      "name": "garbage-collection.ipynb",
      "provenance": [],
      "toc_visible": true,
      "machine_shape": "hm"
    },
    "accelerator": "GPU"
  },
  "cells": [
    {
      "cell_type": "code",
      "metadata": {
        "id": "FBvNKj8WbmAH",
        "colab_type": "code",
        "colab": {}
      },
      "source": [
        "import torch\n",
        "import torch.nn.functional as F\n",
        "import torch.nn as nn\n",
        "import torch.optim as optim\n",
        "import torchvision.datasets as dataset\n",
        "import torchvision.transforms as transforms\n",
        "import numpy as np\n",
        "import pandas as pd\n",
        "import matplotlib.pyplot as plt"
      ],
      "execution_count": 0,
      "outputs": []
    },
    {
      "cell_type": "code",
      "metadata": {
        "id": "4OWUR7RbhWHH",
        "colab_type": "code",
        "colab": {
          "base_uri": "https://localhost:8080/",
          "height": 34
        },
        "outputId": "b1d01848-1022-47be-f973-e5d157fff85a"
      },
      "source": [
        "# Load the Drive helper and mount\n",
        "from google.colab import drive\n",
        "\n",
        "# This will prompt for authorization.\n",
        "drive.mount('/content/drive')"
      ],
      "execution_count": 3,
      "outputs": [
        {
          "output_type": "stream",
          "text": [
            "Drive already mounted at /content/drive; to attempt to forcibly remount, call drive.mount(\"/content/drive\", force_remount=True).\n"
          ],
          "name": "stdout"
        }
      ]
    },
    {
      "cell_type": "code",
      "metadata": {
        "id": "0SndVSsmhoIe",
        "colab_type": "code",
        "colab": {
          "base_uri": "https://localhost:8080/",
          "height": 255
        },
        "outputId": "c9dae332-eadf-4388-ca6b-58abad5470c1"
      },
      "source": [
        "!pip install PyDrive"
      ],
      "execution_count": 4,
      "outputs": [
        {
          "output_type": "stream",
          "text": [
            "Requirement already satisfied: PyDrive in /usr/local/lib/python3.6/dist-packages (1.3.1)\n",
            "Requirement already satisfied: oauth2client>=4.0.0 in /usr/local/lib/python3.6/dist-packages (from PyDrive) (4.1.3)\n",
            "Requirement already satisfied: google-api-python-client>=1.2 in /usr/local/lib/python3.6/dist-packages (from PyDrive) (1.7.11)\n",
            "Requirement already satisfied: PyYAML>=3.0 in /usr/local/lib/python3.6/dist-packages (from PyDrive) (3.13)\n",
            "Requirement already satisfied: rsa>=3.1.4 in /usr/local/lib/python3.6/dist-packages (from oauth2client>=4.0.0->PyDrive) (4.0)\n",
            "Requirement already satisfied: httplib2>=0.9.1 in /usr/local/lib/python3.6/dist-packages (from oauth2client>=4.0.0->PyDrive) (0.11.3)\n",
            "Requirement already satisfied: six>=1.6.1 in /usr/local/lib/python3.6/dist-packages (from oauth2client>=4.0.0->PyDrive) (1.12.0)\n",
            "Requirement already satisfied: pyasn1-modules>=0.0.5 in /usr/local/lib/python3.6/dist-packages (from oauth2client>=4.0.0->PyDrive) (0.2.7)\n",
            "Requirement already satisfied: pyasn1>=0.1.7 in /usr/local/lib/python3.6/dist-packages (from oauth2client>=4.0.0->PyDrive) (0.4.8)\n",
            "Requirement already satisfied: google-auth>=1.4.1 in /usr/local/lib/python3.6/dist-packages (from google-api-python-client>=1.2->PyDrive) (1.4.2)\n",
            "Requirement already satisfied: uritemplate<4dev,>=3.0.0 in /usr/local/lib/python3.6/dist-packages (from google-api-python-client>=1.2->PyDrive) (3.0.1)\n",
            "Requirement already satisfied: google-auth-httplib2>=0.0.3 in /usr/local/lib/python3.6/dist-packages (from google-api-python-client>=1.2->PyDrive) (0.0.3)\n",
            "Requirement already satisfied: cachetools>=2.0.0 in /usr/local/lib/python3.6/dist-packages (from google-auth>=1.4.1->google-api-python-client>=1.2->PyDrive) (4.0.0)\n"
          ],
          "name": "stdout"
        }
      ]
    },
    {
      "cell_type": "code",
      "metadata": {
        "id": "iMCaSQf1hoPp",
        "colab_type": "code",
        "colab": {}
      },
      "source": [
        "\n",
        "from pydrive.auth import GoogleAuth\n",
        "from pydrive.drive import GoogleDrive\n",
        "from google.colab import auth\n",
        "from oauth2client.client import GoogleCredentials\n",
        "\n",
        "# Authenticate and create the PyDrive client.\n",
        "# This only needs to be done once in a notebook.\n",
        "auth.authenticate_user()\n",
        "gauth = GoogleAuth()\n",
        "gauth.credentials = GoogleCredentials.get_application_default()\n",
        "drive = GoogleDrive(gauth)"
      ],
      "execution_count": 0,
      "outputs": []
    },
    {
      "cell_type": "code",
      "metadata": {
        "id": "qMrumrcchoSU",
        "colab_type": "code",
        "colab": {
          "base_uri": "https://localhost:8080/",
          "height": 34
        },
        "outputId": "cb9fd30c-b9c6-4269-c4c2-5cc439c679b8"
      },
      "source": [
        "drive"
      ],
      "execution_count": 6,
      "outputs": [
        {
          "output_type": "execute_result",
          "data": {
            "text/plain": [
              "<pydrive.drive.GoogleDrive at 0x7f91659c3a90>"
            ]
          },
          "metadata": {
            "tags": []
          },
          "execution_count": 6
        }
      ]
    },
    {
      "cell_type": "code",
      "metadata": {
        "id": "NHZfI2j8cw69",
        "colab_type": "code",
        "colab": {}
      },
      "source": [
        ""
      ],
      "execution_count": 0,
      "outputs": []
    },
    {
      "cell_type": "code",
      "metadata": {
        "id": "nkbjGy_FbmAK",
        "colab_type": "code",
        "colab": {}
      },
      "source": [
        "def loadData(BS = 1):\n",
        "    path = \"drive/My Drive/recyclerDataset\"\n",
        "    \n",
        "    transform = transforms.Compose([transforms.ToTensor()])\n",
        "    \n",
        "    trainset = dataset.ImageFolder(path + \"/train/\", transform = transform)\n",
        "    validset = dataset.ImageFolder(path + \"/validation/\", transform = transform)\n",
        "    train_loader = torch.utils.data.DataLoader(trainset, batch_size = BS, shuffle = \"true\")\n",
        "    valid_loader = torch.utils.data.DataLoader(validset, batch_size = BS, shuffle = \"true\")\n",
        "    return train_loader, valid_loader"
      ],
      "execution_count": 0,
      "outputs": []
    },
    {
      "cell_type": "code",
      "metadata": {
        "id": "KPOHvloLcwek",
        "colab_type": "code",
        "colab": {}
      },
      "source": [
        ""
      ],
      "execution_count": 0,
      "outputs": []
    },
    {
      "cell_type": "code",
      "metadata": {
        "id": "KboNXSf1bmAN",
        "colab_type": "code",
        "colab": {}
      },
      "source": [
        "train_loader, valid_loader = loadData()"
      ],
      "execution_count": 0,
      "outputs": []
    },
    {
      "cell_type": "code",
      "metadata": {
        "id": "RT9MaBnfbmAP",
        "colab_type": "code",
        "colab": {}
      },
      "source": [
        ""
      ],
      "execution_count": 0,
      "outputs": []
    },
    {
      "cell_type": "code",
      "metadata": {
        "id": "Toee7lUubmAT",
        "colab_type": "code",
        "colab": {
          "base_uri": "https://localhost:8080/",
          "height": 209
        },
        "outputId": "1f2f148f-5f61-40d8-aea4-572ec83302d4"
      },
      "source": [
        "k=0\n",
        "for data, label in train_loader:\n",
        "    image = data[0]\n",
        "    img = np.transpose(image, [1,2,0])\n",
        "    print(img.shape)\n",
        "    print(\"label: \", label)\n",
        "    plt.subplot(3, 5, k+1)\n",
        "    plt.axis('off')\n",
        "    plt.imshow(img)\n",
        "    \n",
        "    k+=1\n",
        "    if k > 3:\n",
        "        break"
      ],
      "execution_count": 29,
      "outputs": [
        {
          "output_type": "stream",
          "text": [
            "torch.Size([384, 512, 3])\n",
            "label:  tensor([3])\n",
            "torch.Size([384, 512, 3])\n",
            "label:  tensor([0])\n",
            "torch.Size([384, 512, 3])\n",
            "label:  tensor([0])\n",
            "torch.Size([384, 512, 3])\n",
            "label:  tensor([1])\n"
          ],
          "name": "stdout"
        },
        {
          "output_type": "display_data",
          "data": {
            "image/png": "[encoded data removed]",
            "text/plain": [
              "<Figure size 432x288 with 4 Axes>"
            ]
          },
          "metadata": {
            "tags": []
          }
        }
      ]
    },
    {
      "cell_type": "code",
      "metadata": {
        "id": "iOXqgBp5bmAW",
        "colab_type": "code",
        "colab": {}
      },
      "source": [
        ""
      ],
      "execution_count": 0,
      "outputs": []
    },
    {
      "cell_type": "code",
      "metadata": {
        "id": "e1bF-zUBbmAY",
        "colab_type": "code",
        "colab": {}
      },
      "source": [
        "class recycler(nn.Module):\n",
        "    def __init__(self):\n",
        "        super(recycler, self).__init__()\n",
        "        self.name = \"recycler\"\n",
        "        self.conv1 = nn.Conv2d(3, 5, 5)\n",
        "        self.conv2 = nn.Conv2d(5, 7, 5)\n",
        "        self.conv3 = nn.Conv2d(7, 5, 3)\n",
        "        self.pool1 = nn.MaxPool2d(4, 4)\n",
        "        self.pool2 = nn.MaxPool2d(2, 2)\n",
        "        #self.fc1 = nn.Linear(7130, 1024)\n",
        "        self.fc2 = nn.Linear(700, 6)\n",
        "        #self.fc3 = nn.Linear(512, 6)\n",
        "    \n",
        "    def forward(self, x):\n",
        "        x = self.pool1(F.relu(self.conv1(x)))\n",
        "        x = self.pool1(F.relu(self.conv2(x)))\n",
        "        x = self.pool2(F.relu(self.conv3(x)))\n",
        "        x = x.view(x.size(0), -1)\n",
        "        #x = F.relu(self.fc1(x))\n",
        "        x = self.fc2(x)\n",
        "        #x = self.fc3(x)\n",
        "        x = x.squeeze(1)\n",
        "        return x"
      ],
      "execution_count": 0,
      "outputs": []
    },
    {
      "cell_type": "code",
      "metadata": {
        "id": "ccEtj6olbmAa",
        "colab_type": "code",
        "colab": {}
      },
      "source": [
        "model = recycler()"
      ],
      "execution_count": 0,
      "outputs": []
    },
    {
      "cell_type": "code",
      "metadata": {
        "id": "piZxTF-ibmAc",
        "colab_type": "code",
        "colab": {}
      },
      "source": [
        ""
      ],
      "execution_count": 0,
      "outputs": []
    },
    {
      "cell_type": "code",
      "metadata": {
        "id": "heH4Nz4hbmAe",
        "colab_type": "code",
        "colab": {}
      },
      "source": [
        "def train(net, batch_size=1, learning_rate=0.001, num_epochs=30):\n",
        "    train_loader, valid_loader = loadData(BS = batch_size)\n",
        "    \n",
        "    loss_func = nn.CrossEntropyLoss()\n",
        "    optimizer = optim.Adam(net.parameters(), lr = learning_rate)\n",
        "    \n",
        "    train_err = np.zeros(num_epochs)\n",
        "    train_loss = np.zeros(num_epochs)\n",
        "    train_acc = np.zeros(num_epochs)\n",
        "    \n",
        "    valid_err = np.zeros(num_epochs)\n",
        "    valid_loss = np.zeros(num_epochs)\n",
        "    valid_acc = np.zeros(num_epochs)\n",
        "    \n",
        "    \n",
        "    for epoch in range(num_epochs):\n",
        "        total_train_loss = 0.0\n",
        "        total_train_err = 0.0\n",
        "        total_train_acc = 0.0\n",
        "        total_num = 0\n",
        "        \n",
        "        for i, data in enumerate(train_loader, 0):\n",
        "            image, label = data\n",
        "            optimizer.zero_grad()\n",
        "            \n",
        "            train_output = net(image.view(-1, 3, 384, 512))\n",
        "            loss = loss_func(train_output, label)\n",
        "            total_train_loss += loss.item()\n",
        "            \n",
        "            train_output = F.softmax(train_output, dim = 1)\n",
        "            prediction, idx = torch.max(train_output, 1)\n",
        "            \n",
        "            if batch_size is 1:\n",
        "                corr = 0\n",
        "                if(torch.equal(idx, label)):\n",
        "                    corr = 1\n",
        "                \n",
        "                total_train_err += batch_size - corr\n",
        "                total_train_acc += corr\n",
        "            \n",
        "            else:\n",
        "                corr = torch.eq(idx, label).sum().item()\n",
        "                total_train_err += image.shape[0] - corr\n",
        "                total_train_acc += corr\n",
        "\n",
        "            total_num += image.shape[0]\n",
        "            loss.backward()\n",
        "            optimizer.step()\n",
        "        \n",
        "        train_loss[epoch] = float(total_train_loss) / (i+1)\n",
        "        train_err[epoch] = float(total_train_err) / total_num\n",
        "        train_acc[epoch] = float(total_train_acc) / total_num\n",
        "        \n",
        "        valid_loss[epoch], valid_err[epoch], valid_acc[epoch] = evaluate(net, valid_loader, loss_func, batch_size)\n",
        "        print( (\"epoch: {}  train loss: {}  train error {}  train accuracy: {} \").format(epoch+1, train_err[epoch], train_loss[epoch], train_acc[epoch]))\n",
        "        print( (\"epoch: {}  valid loss: {}  valid error {}  valid accuracy: {} \").format(epoch+1, valid_err[epoch], valid_loss[epoch], valid_acc[epoch]))\n",
        "    \n",
        "    return train_loss, train_err, train_acc, valid_loss, valid_err, valid_acc"
      ],
      "execution_count": 0,
      "outputs": []
    },
    {
      "cell_type": "code",
      "metadata": {
        "id": "XV6v61Fps-Y1",
        "colab_type": "code",
        "colab": {}
      },
      "source": [
        "def evaluate(net, loader, loss_func, batch_size):\n",
        "    total_loss = 0.0\n",
        "    total_err = 0.0\n",
        "    total_acc = 0.0\n",
        "    total_num = 0\n",
        "\n",
        "    for i, data in enumerate(loader, 0):\n",
        "        inputs, labels = data\n",
        "\n",
        "        outputs = net(inputs)\n",
        "        loss = loss_func(outputs, labels)\n",
        "        total_loss += loss.item()\n",
        "\n",
        "        outputs = F.softmax(outputs, dim = 1)\n",
        "        prediction, idx = torch.max(outputs, 1)\n",
        "\n",
        "        if batch_size is 1:\n",
        "            corr = 0\n",
        "            if(torch.equal(idx, labels)):\n",
        "              corr = 1\n",
        "            total_err += batch_size - corr\n",
        "            total_acc += corr\n",
        "          \n",
        "        else:\n",
        "            corr = torch.eq(idx, labels).sum().item()\n",
        "            total_err += inputs.shape[0] - corr\n",
        "            total_acc += corr\n",
        "          \n",
        "        total_num += inputs.shape[0]\n",
        "    \n",
        "    error = total_err/total_num\n",
        "    loss = total_loss/(i+1)\n",
        "    accuarcy = total_acc/total_num\n",
        "    return loss, error, accuarcy\n"
      ],
      "execution_count": 0,
      "outputs": []
    },
    {
      "cell_type": "code",
      "metadata": {
        "id": "FasqE3KBbmAh",
        "colab_type": "code",
        "colab": {
          "base_uri": "https://localhost:8080/",
          "height": 1000
        },
        "outputId": "011f03b9-3308-4397-e210-9f153e03ce0a"
      },
      "source": [
        "train_loss, train_err, train_acc, valid_loss, valid_err, valid_acc = train(model, batch_size=16, learning_rate=0.005, num_epochs=30)\n",
        "\n",
        "path = \"drive/My Drive/recyclerDataset/TrainedModel/recycler.pt\" \n",
        "torch.save(model.state_dict(), path)\n",
        "\n",
        "\n",
        "train_acc_df = pd.DataFrame(train_acc)\n",
        "train_acc_df.to_csv(\"drive/My Drive/recyclerDataset/accuracy/train_acc.csv\")\n",
        "\n",
        "valid_acc_df = pd.DataFrame(valid_acc)\n",
        "valid_acc_df.to_csv(\"drive/My Drive/recyclerDataset/accuracy/valid_acc.csv\")"
      ],
      "execution_count": 60,
      "outputs": [
        {
          "output_type": "stream",
          "text": [
            "epoch: 1  train loss: 0.38377926421404684  train error 1.0463914293050767  train accuracy: 0.6162207357859532 \n",
            "epoch: 1  valid loss: 0.7777777777777778  valid error 3.2008021672566733  valid accuracy: 0.2222222222222222 \n",
            "epoch: 2  train loss: 0.38001672240802675  train error 0.9929388741652171  train accuracy: 0.6199832775919732 \n",
            "epoch: 2  valid loss: 0.8296296296296296  valid error 2.9781959321763782  valid accuracy: 0.17037037037037037 \n",
            "epoch: 3  train loss: 0.33695652173913043  train error 0.9519386692841848  train accuracy: 0.6630434782608695 \n",
            "epoch: 3  valid loss: 0.8296296296296296  valid error 3.1752273771497936  valid accuracy: 0.17037037037037037 \n",
            "epoch: 4  train loss: 0.3632943143812709  train error 0.9679571479558945  train accuracy: 0.6367056856187291 \n",
            "epoch: 4  valid loss: 0.7851851851851852  valid error 3.251871029535929  valid accuracy: 0.21481481481481482 \n",
            "epoch: 5  train loss: 0.32148829431438125  train error 0.876426999370257  train accuracy: 0.6785117056856187 \n",
            "epoch: 5  valid loss: 0.762962962962963  valid error 3.245726982752482  valid accuracy: 0.23703703703703705 \n",
            "epoch: 6  train loss: 0.3110367892976589  train error 0.8519023575385412  train accuracy: 0.6889632107023411 \n",
            "epoch: 6  valid loss: 0.7555555555555555  valid error 3.0651206175486245  valid accuracy: 0.24444444444444444 \n",
            "epoch: 7  train loss: 0.2955685618729097  train error 0.8197982813914617  train accuracy: 0.7044314381270903 \n",
            "epoch: 7  valid loss: 0.6666666666666666  valid error 1.958267953660753  valid accuracy: 0.3333333333333333 \n",
            "epoch: 8  train loss: 0.3047658862876254  train error 0.7981246242920558  train accuracy: 0.6952341137123745 \n",
            "epoch: 8  valid loss: 0.8222222222222222  valid error 3.764497889412774  valid accuracy: 0.17777777777777778 \n",
            "epoch: 9  train loss: 0.27508361204013376  train error 0.7535477569699287  train accuracy: 0.7249163879598662 \n",
            "epoch: 9  valid loss: 0.8296296296296296  valid error 3.795271052254571  valid accuracy: 0.17037037037037037 \n",
            "epoch: 10  train loss: 0.28051839464882944  train error 0.7541489545504252  train accuracy: 0.7194816053511706 \n",
            "epoch: 10  valid loss: 0.7777777777777778  valid error 3.3211157851748996  valid accuracy: 0.2222222222222222 \n",
            "epoch: 11  train loss: 0.24247491638795987  train error 0.6822822166482607  train accuracy: 0.7575250836120402 \n",
            "epoch: 11  valid loss: 0.8222222222222222  valid error 3.4123680061764188  valid accuracy: 0.17777777777777778 \n",
            "epoch: 12  train loss: 0.2391304347826087  train error 0.6694147628545761  train accuracy: 0.7608695652173914 \n",
            "epoch: 12  valid loss: 0.8222222222222222  valid error 3.852756871117486  valid accuracy: 0.17777777777777778 \n",
            "epoch: 13  train loss: 0.23118729096989968  train error 0.6190181417266528  train accuracy: 0.7688127090301003 \n",
            "epoch: 13  valid loss: 0.8592592592592593  valid error 4.857021596696642  valid accuracy: 0.14074074074074075 \n",
            "epoch: 14  train loss: 0.22366220735785952  train error 0.5825423992673556  train accuracy: 0.7763377926421404 \n",
            "epoch: 14  valid loss: 0.8222222222222222  valid error 5.038339085049099  valid accuracy: 0.17777777777777778 \n",
            "epoch: 15  train loss: 0.2048494983277592  train error 0.5638691861430803  train accuracy: 0.7951505016722408 \n",
            "epoch: 15  valid loss: 0.762962962962963  valid error 3.5375971264309354  valid accuracy: 0.23703703703703705 \n",
            "epoch: 16  train loss: 0.19021739130434784  train error 0.5235504530370235  train accuracy: 0.8097826086956522 \n",
            "epoch: 16  valid loss: 0.8296296296296296  valid error 5.510911862055461  valid accuracy: 0.17037037037037037 \n",
            "epoch: 17  train loss: 0.20234113712374582  train error 0.5676552211244901  train accuracy: 0.7976588628762542 \n",
            "epoch: 17  valid loss: 0.7407407407407407  valid error 3.855767435497708  valid accuracy: 0.25925925925925924 \n",
            "epoch: 18  train loss: 0.16220735785953178  train error 0.4406033050517241  train accuracy: 0.8377926421404682 \n",
            "epoch: 18  valid loss: 0.7407407407407407  valid error 4.776254812876384  valid accuracy: 0.25925925925925924 \n",
            "epoch: 19  train loss: 0.1806020066889632  train error 0.4929250936706861  train accuracy: 0.8193979933110368 \n",
            "epoch: 19  valid loss: 0.8296296296296296  valid error 6.447499593098958  valid accuracy: 0.17037037037037037 \n",
            "epoch: 20  train loss: 0.19732441471571907  train error 0.5192579736808935  train accuracy: 0.802675585284281 \n",
            "epoch: 20  valid loss: 0.8148148148148148  valid error 4.719853374693129  valid accuracy: 0.18518518518518517 \n",
            "epoch: 21  train loss: 0.1714046822742475  train error 0.4808042897780736  train accuracy: 0.8285953177257525 \n",
            "epoch: 21  valid loss: 0.8148148148148148  valid error 5.160160091188219  valid accuracy: 0.18518518518518517 \n",
            "epoch: 22  train loss: 0.17600334448160534  train error 0.49096557716528577  train accuracy: 0.8239966555183946 \n",
            "epoch: 22  valid loss: 0.7925925925925926  valid error 5.3887266582912865  valid accuracy: 0.2074074074074074 \n",
            "epoch: 23  train loss: 0.16262541806020067  train error 0.4321241737405459  train accuracy: 0.8373745819397993 \n",
            "epoch: 23  valid loss: 0.7925925925925926  valid error 5.663285573323567  valid accuracy: 0.2074074074074074 \n",
            "epoch: 24  train loss: 0.16764214046822742  train error 0.466441654364268  train accuracy: 0.8323578595317725 \n",
            "epoch: 24  valid loss: 0.7925925925925926  valid error 5.500410715738933  valid accuracy: 0.2074074074074074 \n",
            "epoch: 25  train loss: 0.15593645484949833  train error 0.4177557289600372  train accuracy: 0.8440635451505016 \n",
            "epoch: 25  valid loss: 0.7703703703703704  valid error 4.846861415439182  valid accuracy: 0.22962962962962963 \n",
            "epoch: 26  train loss: 0.13921404682274247  train error 0.4020590410133203  train accuracy: 0.8607859531772575 \n",
            "epoch: 26  valid loss: 0.8592592592592593  valid error 7.273502349853516  valid accuracy: 0.14074074074074075 \n",
            "epoch: 27  train loss: 0.16680602006688963  train error 0.46596346735954286  train accuracy: 0.8331939799331104 \n",
            "epoch: 27  valid loss: 0.837037037037037  valid error 7.257539007398817  valid accuracy: 0.16296296296296298 \n",
            "epoch: 28  train loss: 0.1362876254180602  train error 0.39151735658446946  train accuracy: 0.8637123745819398 \n",
            "epoch: 28  valid loss: 0.8148148148148148  valid error 8.619160493214926  valid accuracy: 0.18518518518518517 \n",
            "epoch: 29  train loss: 0.13001672240802675  train error 0.36337257899343967  train accuracy: 0.8699832775919732 \n",
            "epoch: 29  valid loss: 0.7481481481481481  valid error 6.033892075220744  valid accuracy: 0.2518518518518518 \n",
            "epoch: 30  train loss: 0.15259197324414717  train error 0.4462359716743231  train accuracy: 0.8474080267558528 \n",
            "epoch: 30  valid loss: 0.8  valid error 6.021976656383938  valid accuracy: 0.2 \n"
          ],
          "name": "stdout"
        }
      ]
    },
    {
      "cell_type": "code",
      "metadata": {
        "id": "TLtmJ-pQbmAl",
        "colab_type": "code",
        "colab": {
          "base_uri": "https://localhost:8080/",
          "height": 125
        },
        "outputId": "be9355ef-55b6-4a12-a315-9956eab188cf"
      },
      "source": [
        "for data, label in train_loader:\n",
        "    image = data[0]\n",
        "    img = np.transpose(image, [1,2,0])\n",
        "    print(img.shape)\n",
        "    print(\"label: \", label)\n",
        "    plt.subplot(3, 5, k+1)\n",
        "    plt.axis('off')\n",
        "    plt.imshow(img)\n",
        "\n",
        "    output = model(data)\n",
        "    output = F.softmax(output, dim = 1)\n",
        "    prediction, idx = torch.max(output, 1)\n",
        "\n",
        "    print(\"prediction: \", idx)\n",
        "    break\n"
      ],
      "execution_count": 77,
      "outputs": [
        {
          "output_type": "stream",
          "text": [
            "torch.Size([384, 512, 3])\n",
            "label:  tensor([1])\n",
            "prediction:  tensor([1])\n"
          ],
          "name": "stdout"
        },
        {
          "output_type": "display_data",
          "data": {
            "image/png": "[encoded data removed]",
            "text/plain": [
              "<Figure size 432x288 with 1 Axes>"
            ]
          },
          "metadata": {
            "tags": []
          }
        }
      ]
    },
    {
      "cell_type": "code",
      "metadata": {
        "id": "_e51ZVuAbmAn",
        "colab_type": "code",
        "colab": {}
      },
      "source": [
        ""
      ],
      "execution_count": 0,
      "outputs": []
    },
    {
      "cell_type": "code",
      "metadata": {
        "id": "bKtu9xHubmAp",
        "colab_type": "code",
        "colab": {}
      },
      "source": [
        "def takeImage(image):\n",
        "    model.load_state_dict(torch.load(\"modelLocation\"))\n",
        "    output = model(image.view(-1, 3, 384, 512))\n",
        "    output = F.softmax(output, dim = 1)\n",
        "    prediction, idx = torch.max(output, 1)\n",
        "    \n",
        "    idxToClass = dict(0:'Cardboard',1:'Glass',2:'Metal', 3:'Paper', 4:'Plastic', 5:'Trash')\n",
        "    #have a dict for idx to category\n",
        "    return idxToClass[idx]"
      ],
      "execution_count": 0,
      "outputs": []
    },
    {
      "cell_type": "code",
      "metadata": {
        "id": "XyMObrwtbmAr",
        "colab_type": "code",
        "colab": {}
      },
      "source": [
        ""
      ],
      "execution_count": 0,
      "outputs": []
    },
    {
      "cell_type": "code",
      "metadata": {
        "id": "V1SC_0Z-bmAu",
        "colab_type": "code",
        "colab": {}
      },
      "source": [
        ""
      ],
      "execution_count": 0,
      "outputs": []
    }
  ]
}